{
  "nbformat": 4,
  "nbformat_minor": 0,
  "metadata": {
    "colab": {
      "name": "python.ipynb",
      "provenance": [],
      "collapsed_sections": [],
      "authorship_tag": "ABX9TyOKFbR2Bx5dCc6y81oYXclB",
      "include_colab_link": true
    },
    "kernelspec": {
      "name": "python3",
      "display_name": "Python 3"
    }
  },
  "cells": [
    {
      "cell_type": "markdown",
      "metadata": {
        "id": "view-in-github",
        "colab_type": "text"
      },
      "source": [
        "<a href=\"https://colab.research.google.com/github/jjbmsda/KaggleStruggle/blob/master/python.ipynb\" target=\"_parent\"><img src=\"https://colab.research.google.com/assets/colab-badge.svg\" alt=\"Open In Colab\"/></a>"
      ]
    },
    {
      "cell_type": "code",
      "metadata": {
        "id": "Y6nTOOtEklOg"
      },
      "source": [
        "a = 123 # 정수형 (int)\n",
        "b = 123.456 # 부동소수점형 (float)\n",
        "c = \"Hello World\" # 문자형 (str)\n",
        "d = True # 논리형 (bool)\n",
        "e = [1,2,3] #리스트형 (list)"
      ],
      "execution_count": 2,
      "outputs": []
    },
    {
      "cell_type": "code",
      "metadata": {
        "colab": {
          "base_uri": "https://localhost:8080/"
        },
        "id": "rmBeCPU1ngjE",
        "outputId": "82b4dd86-3747-485c-994d-d886f8c44c09"
      },
      "source": [
        "a = 123\n",
        "print(type(a))"
      ],
      "execution_count": 3,
      "outputs": [
        {
          "output_type": "stream",
          "text": [
            "<class 'int'>\n"
          ],
          "name": "stdout"
        }
      ]
    },
    {
      "cell_type": "code",
      "metadata": {
        "colab": {
          "base_uri": "https://localhost:8080/"
        },
        "id": "EOctDiDKoCuz",
        "outputId": "49e9a1e0-6ab4-4d1c-f37e-c50db847a469"
      },
      "source": [
        "a = True; b = False\n",
        "print(a+b)"
      ],
      "execution_count": 4,
      "outputs": [
        {
          "output_type": "stream",
          "text": [
            "1\n"
          ],
          "name": "stdout"
        }
      ]
    },
    {
      "cell_type": "code",
      "metadata": {
        "id": "BRGzj0zhoJOv"
      },
      "source": [
        "a = 1.2e5 #1.2x(10의 5제곱)\n"
      ],
      "execution_count": 8,
      "outputs": []
    },
    {
      "cell_type": "code",
      "metadata": {
        "colab": {
          "base_uri": "https://localhost:8080/"
        },
        "id": "8egafb2Npjei",
        "outputId": "af30dc5d-a813-449c-d8ef-ea9f326c8e59"
      },
      "source": [
        "a=3; b=4\n",
        "\n",
        "c=a+b\n",
        "print(c)\n",
        "\n",
        "d=a<b\n",
        "print(d)\n",
        "\n",
        "e= 3<4 and 4<5\n",
        "print(e)"
      ],
      "execution_count": 9,
      "outputs": [
        {
          "output_type": "stream",
          "text": [
            "7\n",
            "True\n",
            "True\n"
          ],
          "name": "stdout"
        }
      ]
    },
    {
      "cell_type": "code",
      "metadata": {
        "colab": {
          "base_uri": "https://localhost:8080/"
        },
        "id": "DG-dsQsOp9Lg",
        "outputId": "944407a9-3c00-4e85-b5d7-f95ff5fa8884"
      },
      "source": [
        "a = \"Hello\" + \"World\"\n",
        "print(a)\n",
        "\n",
        "b = [1,2,3] + [4,5,6]\n",
        "print(b)"
      ],
      "execution_count": 10,
      "outputs": [
        {
          "output_type": "stream",
          "text": [
            "HelloWorld\n",
            "[1, 2, 3, 4, 5, 6]\n"
          ],
          "name": "stdout"
        }
      ]
    },
    {
      "cell_type": "code",
      "metadata": {
        "colab": {
          "base_uri": "https://localhost:8080/"
        },
        "id": "jm023uFnqIu0",
        "outputId": "1ffddcd8-9626-4685-8076-a070b61ecc4a"
      },
      "source": [
        "a = [1,2,3,4,5]\n",
        "\n",
        "b=a[2]\n",
        "print(b)\n",
        "\n",
        "a.append(6)\n",
        "print(a)\n",
        "\n",
        "a[2] = 7\n",
        "print(a)"
      ],
      "execution_count": 11,
      "outputs": [
        {
          "output_type": "stream",
          "text": [
            "3\n",
            "[1, 2, 3, 4, 5, 6]\n",
            "[1, 2, 7, 4, 5, 6]\n"
          ],
          "name": "stdout"
        }
      ]
    }
  ]
}